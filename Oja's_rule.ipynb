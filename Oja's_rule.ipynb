{
 "cells": [
  {
   "cell_type": "code",
   "execution_count": 1,
   "metadata": {},
   "outputs": [],
   "source": [
    "import numpy as np\n",
    "import matplotlib.pyplot as plt\n",
    "import matplotlib.axes as ax  \n",
    "from sklearn.datasets.samples_generator import make_blobs"
   ]
  },
  {
   "cell_type": "markdown",
   "metadata": {},
   "source": [
    "Here we implement the simple (2,1) network. $[X_1, X_2]$ by $[V_1]$"
   ]
  },
  {
   "cell_type": "code",
   "execution_count": 2,
   "metadata": {},
   "outputs": [
    {
     "data": {
      "text/plain": [
       "array([[ 5.05352957, -7.06335365],\n",
       "       [ 8.73109832, -0.01417307],\n",
       "       [ 8.37702965, -0.80048725],\n",
       "       [ 9.10785691,  1.03826131],\n",
       "       [ 7.72287271,  0.2700947 ],\n",
       "       [ 9.89879645,  0.33035052],\n",
       "       [ 2.24885075, -6.09977777],\n",
       "       [ 1.96062893, -8.44186689],\n",
       "       [ 2.3428721 , -8.39285444],\n",
       "       [ 8.61440809,  1.39788116]])"
      ]
     },
     "execution_count": 2,
     "metadata": {},
     "output_type": "execute_result"
    }
   ],
   "source": [
    "# Generate isotropic Gaussian blobs for clustering.\n",
    "# Here we generate 2 blobs, that will be used for training\n",
    "# on cluster|ing among 2 classes, where each class has \n",
    "# spread (std) 5. That is, generate 2 blobs, for each class \n",
    "# (overally 2*2 = 4 blobs).\n",
    "# The number of data points is 500.\n",
    "X, _ = make_blobs(n_samples=500, \n",
    "                  centers=2,\n",
    "                  #n_features = 2,\n",
    "                  cluster_std = 1.0,\n",
    "                  random_state=1000)\n",
    "X[:10]"
   ]
  },
  {
   "cell_type": "code",
   "execution_count": 3,
   "metadata": {},
   "outputs": [
    {
     "data": {
      "text/plain": [
       "(500, 2)"
      ]
     },
     "execution_count": 3,
     "metadata": {},
     "output_type": "execute_result"
    }
   ],
   "source": [
    "X.shape"
   ]
  },
  {
   "cell_type": "code",
   "execution_count": 40,
   "metadata": {},
   "outputs": [
    {
     "data": {
      "image/png": "[encoded data removed]",
      "text/plain": [
       "<matplotlib.figure.Figure at 0xb578c18>"
      ]
     },
     "metadata": {},
     "output_type": "display_data"
    }
   ],
   "source": [
    "# plot the blobs \n",
    "xaxis = [x for x in X[:,0]]\n",
    "yaxis = [y for y in X[:,1]]\n",
    "plt.plot(yaxis, xaxis, '.')\n",
    "plt.title('inputs')  \n",
    "plt.ylabel('x1')\n",
    "plt.xlabel('x2')\n",
    "plt.show()"
   ]
  },
  {
   "cell_type": "markdown",
   "metadata": {},
   "source": [
    "These are the data points i ll use to train my one-layer net with the oja's update rule. But first i need to scale them to be 0 mean. Let's rescale to mean zero (to be centered around (0,0)) and also let the std be as it is."
   ]
  },
  {
   "cell_type": "markdown",
   "metadata": {},
   "source": [
    "Let's visualize."
   ]
  },
  {
   "cell_type": "code",
   "execution_count": 41,
   "metadata": {},
   "outputs": [],
   "source": [
    "from sklearn.preprocessing import StandardScaler\n",
    "\n",
    "# StandardScaler has by default scale data to have 0 mean and variance 1.\n",
    "# Here we want to leave variance intact and only make the data 0 mean.\n",
    "scaler = StandardScaler(with_std=False)\n",
    "X_scaled = scaler.fit_transform(X)\n",
    "\n",
    "def analyze_data(X):    \n",
    "    \n",
    "    # configure some parameters of the \"lookings\" of the plot.\n",
    "    plt.figure(num=None, \n",
    "               figsize=(8, 6), \n",
    "               dpi=80, \n",
    "               facecolor='w', \n",
    "               edgecolor='k')\n",
    "   \n",
    "    # plot data\n",
    "    xaxis = [x for x in X[:,0]]\n",
    "    yaxis = [y for y in X[:,1]]\n",
    "    plt.plot(yaxis, xaxis, '.')\n",
    "    plt.ylabel('inputs')    \n",
    "    \n",
    "    # correlation matrix\n",
    "    C = np.cov(X_scaled.T) # equivalent to X_scaled.T*x_scaled (2,500)*(500,2) = (2,2)\n",
    "    \n",
    "    # SVD\n",
    "    eigenvalues, eigenvectors = np.linalg.eig(C)\n",
    "    print ('Covariance matrix is : \\n' , C)\n",
    "    print ('eigenvalues are: \\n', eigenvalues)\n",
    "    print ('eigenvectors are: \\n', eigenvectors)  \n",
    "    \n",
    "    # plot eigenvectors\n",
    "    for i in  range(2):    \n",
    "        xaxis_e = [0] # remember the data X is scaled to mean 0.\n",
    "        xaxis_e.append(eigenvectors[0,i])\n",
    "        yaxis_e = [0]\n",
    "        yaxis_e.append(eigenvectors[1,i])\n",
    "        plt.plot(yaxis_e, xaxis_e, '-')\n",
    "        plt.title('inputs')\n",
    "        plt.ylabel('x1')\n",
    "        plt.xlabel('x2')\n",
    "        \n",
    "    # alternative way to plot if you do above np.linalg.eig(np.matrix(C))\n",
    "    #x_v1, y_v1 = eigenvectors[:,0].getA1()\n",
    "    #x_v2, y_v2 = eigenvectors[:,1].getA1()\n",
    "    #m1 = y_v1/x_v1  # Gradient of 1st eigenvector\n",
    "    #m2 = y_v2/x_v2 # Gradient of 2nd eigenvector\n",
    "    #plt.plot([x_v1*-5, x_v1*5], [y_v1*-5, y_v1*5], color='royalblue')\n",
    "    #plt.plot([x_v2*-5, x_v2*5], [y_v2*-5, y_v2*5], color='crimson')\n",
    "\n",
    "    # show the plots \n",
    "    plt.show()\n",
    "    \n",
    "    return C, eigenvalues, eigenvectors"
   ]
  },
  {
   "cell_type": "code",
   "execution_count": 42,
   "metadata": {},
   "outputs": [
    {
     "name": "stdout",
     "output_type": "stream",
     "text": [
      "Covariance matrix is : \n",
      " [[ 10.01131474  11.06169834]\n",
      " [ 11.06169834  14.53063507]]\n",
      "eigenvalues are: \n",
      " [  0.9808361   23.56111371]\n",
      "eigenvectors are: \n",
      " [[-0.77464333 -0.63239838]\n",
      " [ 0.63239838 -0.77464333]]\n"
     ]
    },
    {
     "data": {
      "image/png": "[encoded data removed]",
      "text/plain": [
       "<matplotlib.figure.Figure at 0xb5eb080>"
      ]
     },
     "metadata": {},
     "output_type": "display_data"
    }
   ],
   "source": [
    "C, eigenvalues, eigenvectors = analyze_data(X_scaled)"
   ]
  },
  {
   "cell_type": "markdown",
   "metadata": {},
   "source": [
    "These are the final (scaled) data points."
   ]
  },
  {
   "cell_type": "code",
   "execution_count": 31,
   "metadata": {},
   "outputs": [
    {
     "name": "stdout",
     "output_type": "stream",
     "text": [
      "[[ 10.01131474  11.06169834]\n",
      " [ 11.06169834  14.53063507]]\n",
      "[  0.9808361   23.56111371]\n",
      "[[-0.77464333 -0.63239838]\n",
      " [ 0.63239838 -0.77464333]]\n"
     ]
    }
   ],
   "source": [
    "print (C)\n",
    "print (eigenvalues)\n",
    "print (eigenvectors)"
   ]
  },
  {
   "cell_type": "markdown",
   "metadata": {},
   "source": [
    "Notice how the eigenvectors are orthogonal (eigenvector 1 is column 1 and eigenvector 2 is column 2)."
   ]
  },
  {
   "cell_type": "code",
   "execution_count": 32,
   "metadata": {},
   "outputs": [
    {
     "data": {
      "text/plain": [
       "array([-0.63239838, -0.77464333])"
      ]
     },
     "execution_count": 32,
     "metadata": {},
     "output_type": "execute_result"
    }
   ],
   "source": [
    "index = np.argmax(eigenvalues, axis=0)\n",
    "max_eigenvector = eigenvectors[:,index]\n",
    "max_eigenvector"
   ]
  },
  {
   "cell_type": "markdown",
   "metadata": {},
   "source": [
    "The max eigenvector (principal component), is the second column of the eigenvectors array. I expect the weights of my algorithm to converge along this eigenvector."
   ]
  },
  {
   "cell_type": "markdown",
   "metadata": {},
   "source": [
    "Now onto the oja's implementation..\n",
    "\n",
    "We have defined the single output unit, representing the variance : \n",
    "\n",
    "$$\\begin{equation*}\n",
    "V^2 = (W^T*X)*(W^T*X)^T = W^T(X^T*X)*W = W^T*C*W\n",
    "\\end{equation*}\n",
    "$$\n",
    "\n",
    "And the oja's update rule is :\n",
    "$$\n",
    "\\begin{equation*}\n",
    "dW = C*W - (W^T*C*W)*W\n",
    "\\end{equation*}\n",
    "$$\n",
    "\n",
    "which element-wise translates into:\n",
    "\n",
    "$$\n",
    "\\begin{equation*}\n",
    "dw_{i} = lr * V(x_{i} - V*w_{i}) \\\\\\\n",
    "= lr *( V*x_{i} - V^2*w_{i}) \\\\\\ \n",
    "= lr * (\\sum_{j=1}^n w_{j}*x_{j}*x_{i} - (\\sum_{j,k}^n w_{j}*x_{j}*w_{k}*x_{k})*w_{i}) \\\\\\\n",
    "= lr * (\\sum_{j=1}^n w_{j}*c_{ij} - (\\sum_{j,k}^n w_{j}*w_{k}*c_{jk})*w_{i}) \\\\\\\n",
    "\\end{equation*}\n",
    "$$\n",
    "\n",
    "comment: don't forget here, V is just a number - or better a (1,1) matrix. Regarding the rest of the matrices W is (n,1), C is (n,n), X is (m,n), where m the number of the examples. Overally Ojas's net, is a 1-layer, n-input to 1-output network. "
   ]
  },
  {
   "cell_type": "code",
   "execution_count": 33,
   "metadata": {},
   "outputs": [
    {
     "data": {
      "image/png": "[encoded data removed]",
      "text/plain": [
       "<matplotlib.figure.Figure at 0xb398748>"
      ]
     },
     "metadata": {},
     "output_type": "display_data"
    }
   ],
   "source": [
    "# apply the oja's rule\n",
    "\n",
    "# initialize the weights, w_oja\n",
    "np.random.seed(1000) # make results repeatable\n",
    "w_oja = np.random.normal(scale=0.25, size=(2,1))\n",
    "\n",
    "# Set the threshold of tolerance, close to 0.\n",
    "# This will be the flag point to end the loop,\n",
    "# when the difference between new and the previous\n",
    "# weights is almost zero. Then, we need also to \n",
    "# initialize the weights we will keep as flag, w_oja_prev.\n",
    "threshold = 1e-8\n",
    "w_oja_prev = np.ones((2,1))\n",
    "\n",
    "# update rule\n",
    "learning_rate = 0.001\n",
    "listx = []\n",
    "listy = [] \n",
    "while np.linalg.norm(w_oja - w_oja_prev) > threshold:\n",
    "    w_oja_prev = w_oja.copy()\n",
    "    rule = np.dot(C,w_oja) - np.dot(w_oja.T, np.dot(C,w_oja))*w_oja # (2,2)dot(2,1) - (1,2)dot(2,2)dot(2,1)*(2,1)\n",
    "    w_oja += learning_rate * rule\n",
    "    # keep a list of the x and y axis to plot next, the convergence of the \n",
    "    # oja weights w_oja to the max_eigenvector    \n",
    "    listx.append(w_oja_prev[0])\n",
    "    listy.append(w_oja_prev[1])\n",
    "    \n",
    "# append the last w_oja point to my lists\n",
    "listx.append(w_oja[0]) \n",
    "listy.append(w_oja[1])\n",
    "\n",
    "# plot \n",
    "plt.plot(listy, listx, 'r')\n",
    "plt.scatter(max_eigenvector[1], max_eigenvector[0], color='b')\n",
    "plt.xlabel('w_oja[0]')\n",
    "plt.ylabel('w_oja[1]')\n",
    "plt.show()"
   ]
  },
  {
   "cell_type": "markdown",
   "metadata": {},
   "source": [
    "Notice how it converges to the max eigenvector! Let's check that it indeed converges to the numerical value"
   ]
  },
  {
   "cell_type": "code",
   "execution_count": 34,
   "metadata": {},
   "outputs": [
    {
     "data": {
      "text/plain": [
       "array([[-0.63239871],\n",
       "       [-0.77464306]])"
      ]
     },
     "execution_count": 34,
     "metadata": {},
     "output_type": "execute_result"
    }
   ],
   "source": [
    "w_oja"
   ]
  },
  {
   "cell_type": "code",
   "execution_count": 35,
   "metadata": {},
   "outputs": [
    {
     "data": {
      "text/plain": [
       "array([-0.63239838, -0.77464333])"
      ]
     },
     "execution_count": 35,
     "metadata": {},
     "output_type": "execute_result"
    }
   ],
   "source": [
    "max_eigenvector"
   ]
  },
  {
   "cell_type": "code",
   "execution_count": 36,
   "metadata": {},
   "outputs": [
    {
     "ename": "ValueError",
     "evalue": "The truth value of an array with more than one element is ambiguous. Use a.any() or a.all()",
     "output_type": "error",
     "traceback": [
      "\u001b[1;31m---------------------------------------------------------------------------\u001b[0m",
      "\u001b[1;31mValueError\u001b[0m                                Traceback (most recent call last)",
      "\u001b[1;32m<ipython-input-36-d10d62e50e4f>\u001b[0m in \u001b[0;36m<module>\u001b[1;34m()\u001b[0m\n\u001b[0;32m      1\u001b[0m \u001b[1;31m# this raises error because w_oja and max_eigenvector are not exactly the same.\u001b[0m\u001b[1;33m\u001b[0m\u001b[1;33m\u001b[0m\u001b[0m\n\u001b[1;32m----> 2\u001b[1;33m \u001b[1;32mif\u001b[0m \u001b[1;32mnot\u001b[0m \u001b[0mw_oja\u001b[0m \u001b[1;33m==\u001b[0m \u001b[0mmax_eigenvector\u001b[0m\u001b[1;33m:\u001b[0m\u001b[1;33m\u001b[0m\u001b[0m\n\u001b[0m\u001b[0;32m      3\u001b[0m     \u001b[1;32mraise\u001b[0m \u001b[0mAssertionError\u001b[0m\u001b[1;33m(\u001b[0m\u001b[1;33m)\u001b[0m\u001b[1;33m\u001b[0m\u001b[0m\n",
      "\u001b[1;31mValueError\u001b[0m: The truth value of an array with more than one element is ambiguous. Use a.any() or a.all()"
     ]
    }
   ],
   "source": [
    "# this raises error because w_oja and max_eigenvector are not exactly the same.\n",
    "if not w_oja == max_eigenvector:\n",
    "    raise AssertionError()"
   ]
  },
  {
   "cell_type": "markdown",
   "metadata": {},
   "source": [
    "They are not exactly the same however! Remember we have set a threshold value of acceptance!"
   ]
  }
 ],
 "metadata": {
  "kernelspec": {
   "display_name": "Python 3",
   "language": "python",
   "name": "python3"
  },
  "language_info": {
   "codemirror_mode": {
    "name": "ipython",
    "version": 3
   },
   "file_extension": ".py",
   "mimetype": "text/x-python",
   "name": "python",
   "nbconvert_exporter": "python",
   "pygments_lexer": "ipython3",
   "version": "3.6.2"
  }
 },
 "nbformat": 4,
 "nbformat_minor": 2
}
