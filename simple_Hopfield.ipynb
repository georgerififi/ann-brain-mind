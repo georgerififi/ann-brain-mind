{
 "cells": [
  {
   "cell_type": "code",
   "execution_count": 1,
   "metadata": {},
   "outputs": [],
   "source": [
    "import numpy as np\n",
    "import matplotlib.pyplot as plt\n",
    "import os\n",
    "import re\n",
    "import random"
   ]
  },
  {
   "cell_type": "code",
   "execution_count": 2,
   "metadata": {},
   "outputs": [],
   "source": [
    "def draw_bin_image(image_matrix):\n",
    "    for row in image_matrix.tolist():\n",
    "        print('| ' + ' '.join(' *'[val] for val in row))"
   ]
  },
  {
   "cell_type": "code",
   "execution_count": 3,
   "metadata": {},
   "outputs": [],
   "source": [
    "# 6,5 matrices\n",
    "zero = np.array([\n",
    "    [0,1,1,1,0],\n",
    "    [1,1,0,0,1],\n",
    "    [1,1,0,0,1],\n",
    "    [1,1,0,0,1],\n",
    "    [1,1,0,0,1],\n",
    "    [0,1,1,1,0],\n",
    "])\n",
    "\n",
    "one = np.array([\n",
    "    [0,0,0,1,0],\n",
    "    [0,0,1,1,0],\n",
    "    [0,1,1,1,0],\n",
    "    [0,0,1,1,0],\n",
    "    [0,0,1,1,0],\n",
    "    [0,1,1,1,1]\n",
    "])\n",
    "\n",
    "two = np.array([\n",
    "    [0,1,1,1,0],\n",
    "    [1,0,0,0,1],\n",
    "    [0,0,0,1,0],\n",
    "    [0,1,1,0,0],\n",
    "    [1,1,0,0,0],\n",
    "    [1,1,1,1,1]\n",
    "])"
   ]
  },
  {
   "cell_type": "code",
   "execution_count": 4,
   "metadata": {},
   "outputs": [
    {
     "name": "stdout",
     "output_type": "stream",
     "text": [
      "|   * * *  \n",
      "| * *     *\n",
      "| * *     *\n",
      "| * *     *\n",
      "| * *     *\n",
      "|   * * *  \n",
      "|       *  \n",
      "|     * *  \n",
      "|   * * *  \n",
      "|     * *  \n",
      "|     * *  \n",
      "|   * * * *\n",
      "|   * * *  \n",
      "| *       *\n",
      "|       *  \n",
      "|   * *    \n",
      "| * *      \n",
      "| * * * * *\n"
     ]
    }
   ],
   "source": [
    "matrices = [zero, one, two]\n",
    "for matr in matrices:\n",
    "    draw_bin_image(matr)"
   ]
  },
  {
   "cell_type": "markdown",
   "metadata": {},
   "source": [
    "Alternative way to draw, with matplotib."
   ]
  },
  {
   "cell_type": "code",
   "execution_count": 5,
   "metadata": {},
   "outputs": [
    {
     "data": {
      "image/png": "[encoded data removed]",
      "text/plain": [
       "<matplotlib.figure.Figure at 0x890f6a0>"
      ]
     },
     "metadata": {},
     "output_type": "display_data"
    },
    {
     "data": {
      "image/png": "[encoded data removed]",
      "text/plain": [
       "<matplotlib.figure.Figure at 0x8d81f60>"
      ]
     },
     "metadata": {},
     "output_type": "display_data"
    },
    {
     "data": {
      "image/png": "[encoded data removed]",
      "text/plain": [
       "<matplotlib.figure.Figure at 0x8db4470>"
      ]
     },
     "metadata": {},
     "output_type": "display_data"
    }
   ],
   "source": [
    "for matr in matrices:\n",
    "    plt.imshow(matr, interpolation='nearest', cmap=plt.cm.ocean)\n",
    "    plt.colorbar()\n",
    "    plt.show()"
   ]
  },
  {
   "cell_type": "code",
   "execution_count": 6,
   "metadata": {},
   "outputs": [],
   "source": [
    "def create_weight_matrix(data):\n",
    "    # initialize some values\n",
    "    m = data[0].shape[0] # 6\n",
    "    n = data[0].shape[1] # 5\n",
    "    N = len(data)\n",
    "    weight = np.zeros((m*n,m*n), int) # initialize\n",
    "    \n",
    "    # construct the weights matrix by dot prodct for each data matrix and sum them up\n",
    "    for matrix in data:\n",
    "        # first replace all 0's with -1\n",
    "        matrix[matrix==0] = -1\n",
    "        # mat2vec\n",
    "        vec = np.concatenate(matrix)\n",
    "        vec = vec.reshape(m*n,1)\n",
    "        # sum up the wegiths for all data matrices\n",
    "        weight += vec.dot(vec.T)       \n",
    "    \n",
    "    # normalize weight and replace diagonal values with 0\n",
    "    weight = 1/N * weight\n",
    "    for i in range(m*n):\n",
    "        weight[i,i] = 0\n",
    "    \n",
    "    return weight,m, n"
   ]
  },
  {
   "cell_type": "code",
   "execution_count": 7,
   "metadata": {},
   "outputs": [],
   "source": [
    "def update(s, weights, time_=10000, mode='synchronous'):\n",
    "    \n",
    "    m = s.shape[0] # 6\n",
    "    n = s.shape[1] # 5\n",
    "    s = np.concatenate(s) # 30,\n",
    "    s = s.reshape(m*n,1) # 30,1 \n",
    "    s[s==0] = -1\n",
    "    new_s = np.ones((m*n,1)) # 30,1\n",
    "    \n",
    "    if mode == 'synchronous':\n",
    "        for time in range(time_):\n",
    "            s = np.sign(weights.dot(s))# 30,30 dot 30,1 -> 30,1\n",
    "        return s\n",
    "    \n",
    "    elif mode == 'asynchronous':\n",
    "        for time in range(time_):\n",
    "            i = np.random.randint(0,m*n) # choose a number from 0..m*n-1\n",
    "            s[i] = np.sign(weights[i][:].dot(s)) # 1,30 dot 30,1 -> 1,1\n",
    "        return s"
   ]
  },
  {
   "cell_type": "code",
   "execution_count": 8,
   "metadata": {},
   "outputs": [],
   "source": [
    "def HopfieldNetwork(s, data):\n",
    "    \n",
    "    w, m, n = create_weight_matrix(data)\n",
    "    new_s = update(s, w)\n",
    "    new_s = new_s.reshape((m,n))\n",
    "    \n",
    "    plt.imshow(new_s, interpolation='nearest', cmap=plt.cm.ocean)\n",
    "    plt.colorbar()\n",
    "    plt.show()\n",
    "    \n",
    "    return new_s\n",
    "    "
   ]
  },
  {
   "cell_type": "markdown",
   "metadata": {},
   "source": [
    "My input \n",
    "- data to train my net (shapes of 0,1,2), \n",
    "- and the shape i will check to see if my it reminds me anything i've seen. "
   ]
  },
  {
   "cell_type": "code",
   "execution_count": 9,
   "metadata": {},
   "outputs": [],
   "source": [
    "# data\n",
    "data = [zero,one,two]"
   ]
  },
  {
   "cell_type": "code",
   "execution_count": 12,
   "metadata": {},
   "outputs": [
    {
     "data": {
      "image/png": "[encoded data removed]",
      "text/plain": [
       "<matplotlib.figure.Figure at 0x8fa6eb8>"
      ]
     },
     "metadata": {},
     "output_type": "display_data"
    }
   ],
   "source": [
    "# shape ; is this a memory? \n",
    "s = np.array([\n",
    "    [0,0,1,0,0],\n",
    "    [0,1,1,0,0],\n",
    "    [1,0,1,0,0],\n",
    "    [0,0,1,0,0],\n",
    "    [0,0,0,0,0],\n",
    "    [1,1,1,1,1]\n",
    "])\n",
    "plt.imshow(s, interpolation='nearest', cmap=plt.cm.ocean)\n",
    "plt.show()"
   ]
  },
  {
   "cell_type": "code",
   "execution_count": 11,
   "metadata": {},
   "outputs": [
    {
     "data": {
      "image/png": "[encoded data removed]",
      "text/plain": [
       "<matplotlib.figure.Figure at 0x8fadef0>"
      ]
     },
     "metadata": {},
     "output_type": "display_data"
    },
    {
     "data": {
      "text/plain": [
       "array([[-1., -1., -1.,  1., -1.],\n",
       "       [-1., -1.,  1.,  1., -1.],\n",
       "       [-1.,  1.,  1.,  1., -1.],\n",
       "       [-1., -1.,  1.,  1., -1.],\n",
       "       [-1., -1.,  1.,  1., -1.],\n",
       "       [-1.,  1.,  1.,  1.,  1.]])"
      ]
     },
     "execution_count": 11,
     "metadata": {},
     "output_type": "execute_result"
    }
   ],
   "source": [
    "# <is this?> the answer!\n",
    "HopfieldNetwork(s, data)"
   ]
  }
 ],
 "metadata": {
  "kernelspec": {
   "display_name": "Python 3",
   "language": "python",
   "name": "python3"
  },
  "language_info": {
   "codemirror_mode": {
    "name": "ipython",
    "version": 3
   },
   "file_extension": ".py",
   "mimetype": "text/x-python",
   "name": "python",
   "nbconvert_exporter": "python",
   "pygments_lexer": "ipython3",
   "version": "3.6.2"
  }
 },
 "nbformat": 4,
 "nbformat_minor": 2
}
